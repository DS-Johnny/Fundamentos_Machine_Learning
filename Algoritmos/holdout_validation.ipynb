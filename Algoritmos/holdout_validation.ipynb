{
 "cells": [
  {
   "cell_type": "markdown",
   "metadata": {},
   "source": [
    "# Imports"
   ]
  },
  {
   "cell_type": "code",
   "execution_count": 1,
   "metadata": {},
   "outputs": [],
   "source": [
    "from sklearn import datasets as ds # datasets: Contém vários conjuntos de dados de exemplo\n",
    "from sklearn import model_selection as ms # model_selection: contém ferramentas para dividir os dados em conjuntos de treinamento e teste e métodos para validação cruzada\n",
    "from sklearn import tree as tr # tree: contém métodos para criar e manipular árvores de decisão\n",
    "from sklearn import metrics as mt # metrics: contém métodos para avaliar a performance de modelos de machine learning\n",
    "import pandas as pd # manipulação e análise de dados\n",
    "from matplotlib import pyplot as plt # criar visualizações gráficas\n",
    "import numpy as np # cálculos matemáticos e operações em arrays"
   ]
  },
  {
   "cell_type": "markdown",
   "metadata": {},
   "source": [
    "# Dados Sintéticos"
   ]
  },
  {
   "cell_type": "code",
   "execution_count": 2,
   "metadata": {},
   "outputs": [],
   "source": [
    "# Definindo o número de amostras do conjunto de dados\n",
    "n_samples = 20000\n",
    "\n",
    "# Definindo o número de características do conjunto de dados\n",
    "n_features = 2\n",
    "\n",
    "# Definindo o número de características informativas (relevantes para a classificação, ou seja, que realmente influenciam a saída de classificação)\n",
    "n_informatives = 2\n",
    "\n",
    "# Definindo o número de características redundantes (derivadas das características informativas, combinações lineares das características informativas)\n",
    "n_redundant = 0\n",
    "\n",
    "# Definindo a semente aleatória para garantir a reprodutibilidade dos resultados\n",
    "random_state = 0\n",
    "\n",
    "# Gerando um conjunto de dados sintético para classificação\n",
    "# x contém as características e y contém as etiquetas (classes) correspondentes.\n",
    "x, y = ds.make_classification(n_samples=n_samples,\n",
    "                              n_features=n_features,\n",
    "                              n_informative=n_informatives,\n",
    "                              n_redundant=n_redundant,\n",
    "                              random_state=random_state)\n",
    "\n",
    "# Dividindo o conjunto de dados em dados de treinamento e dados de produção (para avaliação posterior)\n",
    "# x, x_prod, y, y_prod = ms.train_test_split(...): Divide o conjunto de dados em dois subconjuntos: um para treinamento (x e y) e outro para produção (avaliação) (x_prod e y_prod). \n",
    "# A divisão é feita na proporção de 80% para treinamento e 20% para produção, definida pelo parâmetro test_size=0.2. \n",
    "# A semente aleatória é usada para garantir que a divisão seja reprodutível.\n",
    "x, x_prod, y, y_prod = ms.train_test_split(x, y, test_size=0.2, random_state=random_state)"
   ]
  },
  {
   "cell_type": "code",
   "execution_count": 8,
   "metadata": {},
   "outputs": [
    {
     "data": {
      "text/plain": [
       "(16000, 2)"
      ]
     },
     "execution_count": 8,
     "metadata": {},
     "output_type": "execute_result"
    }
   ],
   "source": [
    "df = pd.DataFrame(x)\n",
    "df.shape"
   ]
  },
  {
   "cell_type": "code",
   "execution_count": 9,
   "metadata": {},
   "outputs": [
    {
     "name": "stdout",
     "output_type": "stream",
     "text": [
      "Formato de x: (16000, 2)\n",
      "Formato de x_prod: (4000, 2)\n",
      "Formato de y: (16000, 1)\n",
      "Formato de y_prod: (4000, 1)\n"
     ]
    }
   ],
   "source": [
    "print(f'Formato de x: {pd.DataFrame(x).shape}\\nFormato de x_prod: {pd.DataFrame(x_prod).shape}\\nFormato de y: {pd.DataFrame(y).shape}\\nFormato de y_prod: {pd.DataFrame(y_prod).shape}')"
   ]
  },
  {
   "cell_type": "markdown",
   "metadata": {},
   "source": [
    "# Não há separação dos dados"
   ]
  },
  {
   "cell_type": "code",
   "execution_count": 25,
   "metadata": {},
   "outputs": [
    {
     "name": "stdout",
     "output_type": "stream",
     "text": [
      "Accuracy Over Training: 1.0\n"
     ]
    }
   ],
   "source": [
    "# Cria uma instância de um classificador de árvore de decisão. A profundidade máxima limita o número de níveis da árvore, ajudando a controlar o overfitting.\n",
    "model = tr.DecisionTreeClassifier(max_depth=38)\n",
    "\n",
    "# Treina o modelo de árvore de decisão usando os dados de treinamento x (características) e y (etiquetas).\n",
    "model.fit( x,y )\n",
    "\n",
    "# Usa o modelo treinado para prever as etiquetas dos dados de treinamento x. As previsões são armazenadas em yhat.\n",
    "yhat = model.predict(x)\n",
    "\n",
    "# Calcula a acurácia do modelo comparando as etiquetas verdadeiras y com as previsões yhat. A acurácia é a proporção de previsões corretas feitas pelo modelo.\n",
    "acc = mt.accuracy_score( y, yhat)\n",
    "print(f'Accuracy Over Training: {acc}')"
   ]
  },
  {
   "cell_type": "markdown",
   "metadata": {},
   "source": [
    "Quando a saída é Accuracy Over Training: 1.0, isso significa que o modelo de árvore de decisão acertou todas as previsões nos dados de treinamento. Aqui estão algumas considerações e possíveis implicações desse resultado:\n",
    "\n",
    "Possíveis Implicações:\n",
    "Overfitting:\n",
    "\n",
    "Definição: Overfitting ocorre quando o modelo se ajusta muito bem aos dados de treinamento, incluindo o ruído e as características específicas do conjunto de dados de treinamento, mas não generaliza bem para novos dados.\n",
    "Sinal de Overfitting: Uma acurácia de 1.0 (ou 100%) no conjunto de treinamento é um forte indicativo de overfitting, especialmente quando a profundidade máxima da árvore (max_depth=38) é alta. Árvores de decisão profundas podem memorizar os dados de treinamento.\n",
    "Complexidade do Modelo:\n",
    "\n",
    "Profundidade da Árvore: A profundidade máxima de 38 é bastante grande, o que permite à árvore capturar muitos detalhes dos dados de treinamento. Isso pode levar ao overfitting.\n",
    "Simplificação: Você pode tentar reduzir a profundidade máxima da árvore para ver se isso melhora a generalização do modelo nos dados de teste."
   ]
  },
  {
   "cell_type": "markdown",
   "metadata": {},
   "source": [
    "### Publicação do Modelo em Produção"
   ]
  },
  {
   "cell_type": "code",
   "execution_count": 27,
   "metadata": {},
   "outputs": [
    {
     "name": "stdout",
     "output_type": "stream",
     "text": [
      "Accuracy Over Production: 0.85275\n"
     ]
    }
   ],
   "source": [
    "# Classificando os dados de produção (dados de teste) usando o modelo treinado\n",
    "yhat_prod = model.predict( x_prod )\n",
    "\n",
    "# Calculando a acurácia do modelo nos dados de produção\n",
    "acc_prod = mt.accuracy_score( y_prod, yhat_prod)\n",
    "\n",
    "print(f'Accuracy Over Production: {acc_prod}')"
   ]
  },
  {
   "cell_type": "markdown",
   "metadata": {},
   "source": [
    "Comparação com a Acurácia de Treinamento:\n",
    "\n",
    "Se a acurácia de treinamento foi 1.0 e a acurácia de produção é 0.85275, isso sugere que o modelo está sofrendo de overfitting. O modelo está se ajustando muito bem aos dados de treinamento, mas não generaliza tão bem para os dados de produção.\n",
    "Por que isso acontece?: A profundidade máxima da árvore (max_depth=38) pode ser muito alta, permitindo que a árvore memorize os dados de treinamento em vez de aprender padrões gerais."
   ]
  },
  {
   "cell_type": "markdown",
   "metadata": {},
   "source": [
    "### Estratégia Treino-Teste"
   ]
  },
  {
   "cell_type": "code",
   "execution_count": 10,
   "metadata": {},
   "outputs": [],
   "source": [
    "# Separa os dados em Treinamento e Teste\n",
    "x_train, x_test, y_train, y_test = ms.train_test_split(x, y, test_size=0.2, random_state=random_state)"
   ]
  },
  {
   "cell_type": "markdown",
   "metadata": {},
   "source": [
    "Separação dos Dados:\n",
    "- x_train, x_test, y_train, y_test = ms.train_test_split(x, y, test_size=0.2, random_state=random_state):\n",
    "- x_train e y_train são os dados de características e etiquetas que serão usados para treinar o modelo.\n",
    "- x_test e y_test são os dados de características e etiquetas que serão usados para testar o modelo.\n",
    "- test_size=0.2 especifica que 20% dos dados serão reservados para o conjunto de teste, enquanto 80% serão usados para treinamento.\n",
    "- random_state=random_state garante que a divisão dos dados seja reproduzível, ou seja, você obterá a mesma divisão dos dados se executar o código novamente com a mesma semente aleatória."
   ]
  },
  {
   "cell_type": "code",
   "execution_count": 13,
   "metadata": {},
   "outputs": [
    {
     "name": "stdout",
     "output_type": "stream",
     "text": [
      "Accuracy Over test: 0.886875\n"
     ]
    }
   ],
   "source": [
    "# Modelo treinado com os dados de treinamento\n",
    "model = tr.DecisionTreeClassifier( max_depth=6)\n",
    "model.fit(x_train, y_train )\n",
    "\n",
    "# Classificação sobre os dados de teste\n",
    "yhat_test = model.predict( x_test )\n",
    "acc_test = mt.accuracy_score(y_test, yhat_test)\n",
    "\n",
    "print(f'Accuracy Over test: {acc_test}')\n"
   ]
  },
  {
   "cell_type": "markdown",
   "metadata": {},
   "source": [
    "### Escolha dos parâmetros do algoritmo"
   ]
  },
  {
   "cell_type": "code",
   "execution_count": 16,
   "metadata": {},
   "outputs": [],
   "source": [
    "# Definindo uma lista de profundidades para testar\n",
    "values = [i for i in range(1,60)]\n",
    "\n",
    "# Inicializando uma lista para armazenar as acurácias de teste para diferentes profundidades\n",
    "test_score = []\n",
    "\n",
    "# Iterando sobre cada valor de profundidade\n",
    "for i in values:\n",
    "    # Modelo treinado com os dados de treinamento, para cada valor de profundidade\n",
    "    model = tr.DecisionTreeClassifier( max_depth=i)\n",
    "    model.fit(x_train, y_train )\n",
    "\n",
    "    #    # Classificando os dados de teste (x_test) usando o modelo treinado com o valor atual de profundidade\n",
    "    yhat_test = model.predict( x_test )\n",
    "    acc_test = mt.accuracy_score(y_test, yhat_test)  # Calculando a acurácia do modelo nos dados de teste\n",
    "\n",
    "    test_score.append(acc_test)"
   ]
  },
  {
   "cell_type": "markdown",
   "metadata": {},
   "source": [
    "Análise do Resultado\n",
    "\n",
    "Após executar esse código, você terá uma lista (test_score) que contém a acurácia de teste para cada profundidade da árvore de decisão de 1 a 59. Isso permite que você visualize como a profundidade da árvore afeta o desempenho do modelo.\n",
    "\n",
    "Você pode usar a lista test_score para plotar um gráfico e visualizar o desempenho do modelo em função da profundidade. Isso pode ajudar a identificar a profundidade ótima da árvore que oferece o melhor equilíbrio entre ajuste e generalização. Aqui está um exemplo de como você pode fazer isso:"
   ]
  },
  {
   "cell_type": "code",
   "execution_count": 15,
   "metadata": {},
   "outputs": [
    {
     "data": {
      "image/png": "[encoded data removed]",
      "text/plain": [
       "<Figure size 640x480 with 1 Axes>"
      ]
     },
     "metadata": {},
     "output_type": "display_data"
    }
   ],
   "source": [
    "#plt.plot(values, test_score, '-o', label='Test')\n",
    "# Plotando a acurácia de teste em função da profundidade da árvore\n",
    "plt.plot(values, test_score, marker='o')\n",
    "plt.xlabel('Profundidade da Árvore')\n",
    "plt.ylabel('Acurácia de Teste')\n",
    "plt.title('Acurácia de Teste vs. Profundidade da Árvore de Decisão')\n",
    "plt.grid(True)"
   ]
  },
  {
   "cell_type": "code",
   "execution_count": 19,
   "metadata": {},
   "outputs": [
    {
     "name": "stdout",
     "output_type": "stream",
     "text": [
      "Máxima Acurácia de Teste: 0.886875\n",
      "Profundidade Ótima: 6\n"
     ]
    }
   ],
   "source": [
    "# Encontrando a acurácia máxima obtida\n",
    "max_accuracy = max(test_score)\n",
    "\n",
    "# Encontrando o índice da acurácia máxima na lista test_score\n",
    "best_depth_index = test_score.index(max_accuracy)\n",
    "\n",
    "# Correspondendo o índice à profundidade\n",
    "best_depth = values[best_depth_index]\n",
    "\n",
    "# Imprimindo a acurácia máxima e a profundidade correspondente\n",
    "print(f'Máxima Acurácia de Teste: {max_accuracy}')\n",
    "print(f'Profundidade Ótima: {best_depth}')"
   ]
  },
  {
   "cell_type": "markdown",
   "metadata": {},
   "source": [
    "### Publicacao do algoritmo em Producao"
   ]
  },
  {
   "cell_type": "code",
   "execution_count": 23,
   "metadata": {},
   "outputs": [
    {
     "name": "stdout",
     "output_type": "stream",
     "text": [
      "Accuracy Over production: 0.88175\n"
     ]
    }
   ],
   "source": [
    "# Criando e configurando o modelo de árvore de decisão com profundidade máxima de 6\n",
    "model_last = tr.DecisionTreeClassifier(max_depth=6)\n",
    "\n",
    "# Concatenando os dados de treinamento e teste para treinar o modelo com todo o conjunto de dados disponível\n",
    "x_combined = np.concatenate((x_train, x_test))\n",
    "y_combined = np.concatenate((y_train, y_test))\n",
    "\n",
    "# Treinando o modelo com todos os dados combinados\n",
    "model_last.fit(x_combined, y_combined)\n",
    "\n",
    "\n",
    "# Classificando os dados de produção (dados de teste) usando o modelo treinado\n",
    "yhat_prod = model_last.predict(x_prod)\n",
    "\n",
    "# Calculando a acurácia do modelo nos dados de produção\n",
    "acc_prod = mt.accuracy_score(y_prod, yhat_prod)\n",
    "\n",
    "# Imprimindo a acurácia do modelo nos dados de produção\n",
    "print(f'Accuracy Over production: {acc_prod}')"
   ]
  },
  {
   "cell_type": "markdown",
   "metadata": {},
   "source": [
    "# Estratégia de Treino-Validação-Teste"
   ]
  },
  {
   "cell_type": "code",
   "execution_count": 38,
   "metadata": {},
   "outputs": [],
   "source": [
    "# Separação entre treino e validação\n",
    "x_train, x_val, y_train, y_val = ms.train_test_split( x_train, y_train, test_size=0.2 ) # Aqui, 20% dos dados de treinamento são reservados para validação."
   ]
  },
  {
   "cell_type": "code",
   "execution_count": 33,
   "metadata": {},
   "outputs": [
    {
     "data": {
      "text/plain": [
       "7"
      ]
     },
     "execution_count": 33,
     "metadata": {},
     "output_type": "execute_result"
    }
   ],
   "source": [
    "values = [i for i in range(1,60)]\n",
    "\n",
    "val_score = []\n",
    "for i in values:\n",
    "    model = tr.DecisionTreeClassifier(max_depth=i)\n",
    "    model.fit( x_train, y_train)\n",
    "    # classify\n",
    "    yhat_val = model.predict( x_val )\n",
    "    acc_val = mt.accuracy_score(y_val, yhat_val )\n",
    "    val_score.append(acc_val)\n",
    "\n",
    "# Encontrando a acurácia máxima obtida\n",
    "max_accuracy = max(val_score)\n",
    "\n",
    "# Encontrando o índice da acurácia máxima na lista test_score\n",
    "best_depth_index = val_score.index(max_accuracy)\n",
    "\n",
    "# Correspondendo o índice à profundidade\n",
    "best_depth = values[best_depth_index]"
   ]
  },
  {
   "cell_type": "markdown",
   "metadata": {},
   "source": [
    "Aqui, max_accuracy é a melhor acurácia obtida, best_depth_index é a posição dessa acurácia na lista, e best_depth é a profundidade da árvore associada a essa acurácia máxima.\n"
   ]
  },
  {
   "cell_type": "code",
   "execution_count": 39,
   "metadata": {},
   "outputs": [
    {
     "name": "stdout",
     "output_type": "stream",
     "text": [
      "Accuracy Over validation: 0.8701171875\n"
     ]
    }
   ],
   "source": [
    "# Modelo treinado com os dados de treinamento\n",
    "model = tr.DecisionTreeClassifier( max_depth=best_depth)\n",
    "model.fit(x_train, y_train )\n",
    "\n",
    "# Classificação sobre os dados de teste\n",
    "yhat_val = model.predict( x_val )\n",
    "acc_val = mt.accuracy_score(y_val, yhat_val )\n",
    "\n",
    "print(f'Accuracy Over validation: {acc_val}')\n"
   ]
  },
  {
   "cell_type": "code",
   "execution_count": 40,
   "metadata": {},
   "outputs": [
    {
     "name": "stdout",
     "output_type": "stream",
     "text": [
      "Accuracy over test: 0.8875\n"
     ]
    }
   ],
   "source": [
    "# Modelo treinado sobre training + validation\n",
    "model_last = tr.DecisionTreeClassifier(max_depth=best_depth)\n",
    "model_last.fit(np.concat((x_train, x_val)), np.concat((y_train, y_val)))\n",
    "# classify\n",
    "yhat_test = model_last.predict(x_test)\n",
    "acc_test = mt.accuracy_score(y_test, yhat_test)\n",
    "\n",
    "print(f'Accuracy over test: {acc_test}')"
   ]
  },
  {
   "cell_type": "code",
   "execution_count": 41,
   "metadata": {},
   "outputs": [
    {
     "name": "stdout",
     "output_type": "stream",
     "text": [
      "Accuracy over production: 0.87975\n"
     ]
    }
   ],
   "source": [
    "# classificaçao sobre os dados de teste\n",
    "yhat_prod = model_last.predict( x_prod )\n",
    "acc_prod = mt.accuracy_score(y_prod, yhat_prod)\n",
    "\n",
    "print(f'Accuracy over production: {acc_prod}')\n",
    "\n"
   ]
  },
  {
   "cell_type": "code",
   "execution_count": null,
   "metadata": {},
   "outputs": [],
   "source": []
  }
 ],
 "metadata": {
  "kernelspec": {
   "display_name": "env",
   "language": "python",
   "name": "python3"
  },
  "language_info": {
   "codemirror_mode": {
    "name": "ipython",
    "version": 3
   },
   "file_extension": ".py",
   "mimetype": "text/x-python",
   "name": "python",
   "nbconvert_exporter": "python",
   "pygments_lexer": "ipython3",
   "version": "3.12.1"
  }
 },
 "nbformat": 4,
 "nbformat_minor": 2
}
