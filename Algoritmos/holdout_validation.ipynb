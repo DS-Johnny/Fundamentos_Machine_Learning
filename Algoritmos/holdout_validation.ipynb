{
 "cells": [
  {
   "cell_type": "markdown",
   "metadata": {},
   "source": [
    "# Dados Sintéticos"
   ]
  },
  {
   "cell_type": "code",
   "execution_count": 54,
   "metadata": {},
   "outputs": [],
   "source": [
    "from sklearn import datasets as ds\n",
    "from sklearn import model_selection as ms\n",
    "from sklearn import tree as tr\n",
    "from sklearn import metrics as mt\n",
    "import pandas as pd\n",
    "from matplotlib import pyplot as plt\n",
    "import numpy as np"
   ]
  },
  {
   "cell_type": "code",
   "execution_count": 5,
   "metadata": {},
   "outputs": [],
   "source": []
  },
  {
   "cell_type": "code",
   "execution_count": 13,
   "metadata": {},
   "outputs": [],
   "source": [
    "n_samples=20000\n",
    "n_features=2\n",
    "n_informatives=2\n",
    "n_redundant=0\n",
    "random_state=0\n",
    "#dataset\n",
    "x, y = ds.make_classification( n_samples=n_samples,\n",
    "                        n_features=n_features,\n",
    "                        n_informative=n_informatives,\n",
    "                        n_redundant=n_redundant,\n",
    "                        random_state=random_state)\n",
    "# production dataset\n",
    "x, x_prod, y, y_prod = ms.train_test_split( x, y, test_size=0.2, random_state=random_state)"
   ]
  },
  {
   "cell_type": "code",
   "execution_count": 57,
   "metadata": {},
   "outputs": [
    {
     "data": {
      "text/plain": [
       "(16000, 2)"
      ]
     },
     "execution_count": 57,
     "metadata": {},
     "output_type": "execute_result"
    }
   ],
   "source": [
    "df = pd.DataFrame(x)\n",
    "df.shape"
   ]
  },
  {
   "cell_type": "markdown",
   "metadata": {},
   "source": [
    "# Não há separação dos dados"
   ]
  },
  {
   "cell_type": "code",
   "execution_count": 25,
   "metadata": {},
   "outputs": [
    {
     "name": "stdout",
     "output_type": "stream",
     "text": [
      "Accuracy Over Training: 1.0\n"
     ]
    }
   ],
   "source": [
    "#define model\n",
    "model = tr.DecisionTreeClassifier(max_depth=38)\n",
    "#train\n",
    "model.fit( x,y )\n",
    "# classify data\n",
    "yhat = model.predict(x)\n",
    "\n",
    "acc = mt.accuracy_score( y, yhat)\n",
    "print(f'Accuracy Over Training: {acc}')"
   ]
  },
  {
   "cell_type": "markdown",
   "metadata": {},
   "source": [
    "### Publicação do Modelo em Produção"
   ]
  },
  {
   "cell_type": "code",
   "execution_count": 27,
   "metadata": {},
   "outputs": [
    {
     "name": "stdout",
     "output_type": "stream",
     "text": [
      "Accuracy Over Production: 0.85275\n"
     ]
    }
   ],
   "source": [
    "yhat_prod = model.predict( x_prod )\n",
    "acc_prod = mt.accuracy_score( y_prod, yhat_prod)\n",
    "print(f'Accuracy Over Production: {acc_prod}')"
   ]
  },
  {
   "cell_type": "markdown",
   "metadata": {},
   "source": [
    "### Estratégia Treino-Teste"
   ]
  },
  {
   "cell_type": "code",
   "execution_count": 28,
   "metadata": {},
   "outputs": [],
   "source": [
    "# Separa os dados em Treinamento e Teste\n",
    "x_train, x_test, y_train, y_test = ms.train_test_split(x, y, test_size=0.2, random_state=random_state)"
   ]
  },
  {
   "cell_type": "code",
   "execution_count": 48,
   "metadata": {},
   "outputs": [
    {
     "name": "stdout",
     "output_type": "stream",
     "text": [
      "Accuracy Over test: 0.886875\n"
     ]
    }
   ],
   "source": [
    "# Modelo treinado com os dados de treinamento\n",
    "model = tr.DecisionTreeClassifier( max_depth=6)\n",
    "model.fit(x_train, y_train )\n",
    "\n",
    "# Classificação sobre os dados de teste\n",
    "yhat_test = model.predict( x_test )\n",
    "acc_test = mt.accuracy_score(y_test, yhat_test)\n",
    "\n",
    "print(f'Accuracy Over test: {acc_test}')\n"
   ]
  },
  {
   "cell_type": "markdown",
   "metadata": {},
   "source": [
    "### Escolha dos parâmetros do algoritmo"
   ]
  },
  {
   "cell_type": "code",
   "execution_count": 50,
   "metadata": {},
   "outputs": [
    {
     "data": {
      "text/plain": [
       "0.886875"
      ]
     },
     "execution_count": 50,
     "metadata": {},
     "output_type": "execute_result"
    }
   ],
   "source": [
    "values = [i for i in range(1,60)]\n",
    "test_score = []\n",
    "for i in values:\n",
    "    # Modelo treinado com os dados de treinamento\n",
    "    model = tr.DecisionTreeClassifier( max_depth=i)\n",
    "    model.fit(x_train, y_train )\n",
    "\n",
    "    # Classificação sobre os dados de teste\n",
    "    yhat_test = model.predict( x_test )\n",
    "    acc_test = mt.accuracy_score(y_test, yhat_test)\n",
    "    test_score.append(acc_test)\n",
    "max(test_score)\n"
   ]
  },
  {
   "cell_type": "code",
   "execution_count": 51,
   "metadata": {},
   "outputs": [
    {
     "data": {
      "text/plain": [
       "5"
      ]
     },
     "execution_count": 51,
     "metadata": {},
     "output_type": "execute_result"
    }
   ],
   "source": [
    "test_score.index(max(test_score))"
   ]
  },
  {
   "cell_type": "code",
   "execution_count": 52,
   "metadata": {},
   "outputs": [
    {
     "data": {
      "text/plain": [
       "[<matplotlib.lines.Line2D at 0x120eff68f80>]"
      ]
     },
     "execution_count": 52,
     "metadata": {},
     "output_type": "execute_result"
    },
    {
     "data": {
      "image/png": "[encoded data removed]",
      "text/plain": [
       "<Figure size 640x480 with 1 Axes>"
      ]
     },
     "metadata": {},
     "output_type": "display_data"
    }
   ],
   "source": [
    "plt.plot(values, test_score, '-o', label='Test')"
   ]
  },
  {
   "cell_type": "markdown",
   "metadata": {},
   "source": [
    "### Publicacao do algoritmo em Producao"
   ]
  },
  {
   "cell_type": "code",
   "execution_count": 56,
   "metadata": {},
   "outputs": [
    {
     "name": "stdout",
     "output_type": "stream",
     "text": [
      "Accuracy Over test: 0.878\n"
     ]
    }
   ],
   "source": [
    "# modelo treinado\n",
    "model_last = tr.DecisionTreeClassifier( max_depth=6)\n",
    "model_last.fit (np.concat((x_train, x_test)), np.concat((y_train,y_test)))\n",
    "model_last.fit(x_train, y_train )\n",
    "\n",
    "# Classificação sobre os dados de teste\n",
    "yhat_prod = model_last.predict( x_prod )\n",
    "acc_prod = mt.accuracy_score(y_prod, yhat_prod)\n",
    "\n",
    "print(f'Accuracy Over test: {acc_prod}')"
   ]
  },
  {
   "cell_type": "markdown",
   "metadata": {},
   "source": [
    "# Estratégia de Treino-Validação-Teste"
   ]
  },
  {
   "cell_type": "markdown",
   "metadata": {},
   "source": []
  }
 ],
 "metadata": {
  "kernelspec": {
   "display_name": "env",
   "language": "python",
   "name": "python3"
  },
  "language_info": {
   "codemirror_mode": {
    "name": "ipython",
    "version": 3
   },
   "file_extension": ".py",
   "mimetype": "text/x-python",
   "name": "python",
   "nbconvert_exporter": "python",
   "pygments_lexer": "ipython3",
   "version": "3.12.1"
  }
 },
 "nbformat": 4,
 "nbformat_minor": 2
}
