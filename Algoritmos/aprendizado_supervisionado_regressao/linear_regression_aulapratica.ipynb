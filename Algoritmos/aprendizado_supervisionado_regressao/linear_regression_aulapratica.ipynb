{
 "cells": [
  {
   "cell_type": "markdown",
   "metadata": {},
   "source": [
    "# IMPORTS"
   ]
  },
  {
   "cell_type": "code",
   "execution_count": 2,
   "metadata": {},
   "outputs": [],
   "source": [
    "import pandas as pd\n",
    "import numpy as np\n",
    "from sklearn.linear_model import LinearRegression # A classe LinearRegression é utilizada para criar modelos de regressão linear.\n",
    "from sklearn import metrics as mt # contém várias funções para avaliar o desempenho de modelos de machine learnin"
   ]
  },
  {
   "cell_type": "markdown",
   "metadata": {},
   "source": [
    "# LOAD DATASET"
   ]
  },
  {
   "cell_type": "code",
   "execution_count": 3,
   "metadata": {},
   "outputs": [],
   "source": [
    "df = pd.read_csv('../datasets/train.csv')"
   ]
  },
  {
   "cell_type": "markdown",
   "metadata": {},
   "source": [
    "# DATA PREPARATION"
   ]
  },
  {
   "cell_type": "code",
   "execution_count": 1,
   "metadata": {},
   "outputs": [],
   "source": [
    "# Define uma lista de nomes de características (features) que serão usadas como variáveis independentes no modelo\n",
    "features = ['idade',\n",
    "            'divida_atual',\n",
    "            'renda_anual',\n",
    "            'valor_em_investimentos',\n",
    "            'taxa_utilizacao_credito',\n",
    "            'num_emprestimos',\n",
    "            'num_contas_bancarias',\n",
    "            'num_cartoes_credito',\n",
    "            'dias_atraso_dt_venc',\n",
    "            'num_pgtos_atrasados',\n",
    "            'num_consultas_credito',\n",
    "            'taxa_juros']\n",
    "\n",
    "# Define uma lista com o nome da variável alvo (label) que será prevista pelo modelo\n",
    "label = ['saldo_atual']\n"
   ]
  },
  {
   "cell_type": "code",
   "execution_count": 5,
   "metadata": {},
   "outputs": [],
   "source": [
    "# Seleciona as colunas especificadas na lista 'features' e as armazena em x_train\n",
    "x_train = df.loc[:, features]\n",
    "\n",
    "# Seleciona a coluna especificada na lista 'label' e a armazena em y_train\n",
    "y_train = df.loc[:, label]"
   ]
  },
  {
   "cell_type": "markdown",
   "metadata": {},
   "source": [
    "# MODEL TRAINING"
   ]
  },
  {
   "cell_type": "markdown",
   "metadata": {},
   "source": [
    "### Model training with Statsmodel"
   ]
  },
  {
   "cell_type": "code",
   "execution_count": 6,
   "metadata": {},
   "outputs": [],
   "source": [
    "import statsmodels.formula.api as smf\n",
    "import statsmodels.api as sm\n",
    "df3 = pd.concat( [x_train, y_train], axis=1)\n",
    "#Model definition\n",
    "reg2 = smf.ols(formula = 'saldo_atual ~ idade + divida_atual + num_emprestimos', data = df3)\n",
    "\n",
    "#Model training\n",
    "reg2 = reg2.fit()\n",
    "\n",
    "anova_results2 = sm.stats.anova_lm(reg2, typ=1)"
   ]
  },
  {
   "cell_type": "code",
   "execution_count": 7,
   "metadata": {},
   "outputs": [
    {
     "name": "stdout",
     "output_type": "stream",
     "text": [
      "                     df        sum_sq       mean_sq            F  \\\n",
      "idade               1.0  4.085925e+02  4.085925e+02     0.009575   \n",
      "divida_atual        1.0  4.494005e+07  4.494005e+07  1053.104993   \n",
      "num_emprestimos     1.0  3.976109e+03  3.976109e+03     0.093174   \n",
      "Residual         9496.0  4.052309e+08  4.267385e+04          NaN   \n",
      "\n",
      "                        PR(>F)  \n",
      "idade             9.220529e-01  \n",
      "divida_atual     3.537135e-219  \n",
      "num_emprestimos   7.601864e-01  \n",
      "Residual                   NaN  \n",
      "-=-=-=-=-=-=-=-=-=-=-=-=-=-=-=-=-=-=-=-=-=-=-=-=-=-=-=-=-=-=-=-=-=-=-=-=-=-=-=-=\n",
      "                              Summary\n",
      "-=-=-=-=-=-=-=-=-=-=-=-=-=-=-=-=-=-=-=-=-=-=-=-=-=-=-=-=-=-=-=-=-=-=-=-=-=-=-=-=\n",
      "                            OLS Regression Results                            \n",
      "==============================================================================\n",
      "Dep. Variable:            saldo_atual   R-squared:                       0.100\n",
      "Model:                            OLS   Adj. R-squared:                  0.100\n",
      "Method:                 Least Squares   F-statistic:                     351.1\n",
      "Date:                Thu, 18 Jul 2024   Prob (F-statistic):          3.21e-216\n",
      "Time:                        11:22:12   Log-Likelihood:                -64119.\n",
      "No. Observations:                9500   AIC:                         1.282e+05\n",
      "Df Residuals:                    9496   BIC:                         1.283e+05\n",
      "Df Model:                           3                                         \n",
      "Covariance Type:            nonrobust                                         \n",
      "===================================================================================\n",
      "                      coef    std err          t      P>|t|      [0.025      0.975]\n",
      "-----------------------------------------------------------------------------------\n",
      "Intercept         490.1201      3.419    143.337      0.000     483.417     496.823\n",
      "idade           -1.985e-05      0.003     -0.006      0.995      -0.006       0.006\n",
      "divida_atual       -0.0595      0.002    -32.440      0.000      -0.063      -0.056\n",
      "num_emprestimos    -0.0103      0.034     -0.305      0.760      -0.077       0.056\n",
      "==============================================================================\n",
      "Omnibus:                     2666.251   Durbin-Watson:                   2.020\n",
      "Prob(Omnibus):                  0.000   Jarque-Bera (JB):             7333.012\n",
      "Skew:                           1.494   Prob(JB):                         0.00\n",
      "Kurtosis:                       6.097   Cond. No.                     2.98e+03\n",
      "==============================================================================\n",
      "\n",
      "Notes:\n",
      "[1] Standard Errors assume that the covariance matrix of the errors is correctly specified.\n",
      "[2] The condition number is large, 2.98e+03. This might indicate that there are\n",
      "strong multicollinearity or other numerical problems.\n"
     ]
    }
   ],
   "source": [
    "print(anova_results2)\n",
    "print(40*'-=')\n",
    "print(30*' '+'Summary')\n",
    "print(40*'-=')\n",
    "print(reg2.summary())"
   ]
  },
  {
   "cell_type": "markdown",
   "metadata": {},
   "source": [
    "### Model Training with sklearn"
   ]
  },
  {
   "cell_type": "code",
   "execution_count": 6,
   "metadata": {},
   "outputs": [],
   "source": [
    "# Cria uma instância do modelo de regressão linear\n",
    "lr_model = LinearRegression()\n",
    "\n",
    "# Ajusta o modelo aos dados de treinamento (x_train e y_train)\n",
    "lr_model.fit(x_train, y_train)\n",
    "\n",
    "# Faz previsões com base nos dados de treinamento (x_train)\n",
    "y_pred = lr_model.predict(x_train)\n",
    "\n"
   ]
  },
  {
   "cell_type": "code",
   "execution_count": 7,
   "metadata": {},
   "outputs": [
    {
     "data": {
      "text/html": [
       "<div>\n",
       "<style scoped>\n",
       "    .dataframe tbody tr th:only-of-type {\n",
       "        vertical-align: middle;\n",
       "    }\n",
       "\n",
       "    .dataframe tbody tr th {\n",
       "        vertical-align: top;\n",
       "    }\n",
       "\n",
       "    .dataframe thead th {\n",
       "        text-align: right;\n",
       "    }\n",
       "</style>\n",
       "<table border=\"1\" class=\"dataframe\">\n",
       "  <thead>\n",
       "    <tr style=\"text-align: right;\">\n",
       "      <th></th>\n",
       "      <th>id_cliente</th>\n",
       "      <th>saldo_atual</th>\n",
       "      <th>predicted</th>\n",
       "    </tr>\n",
       "  </thead>\n",
       "  <tbody>\n",
       "    <tr>\n",
       "      <th>0</th>\n",
       "      <td>1767</td>\n",
       "      <td>278.172008</td>\n",
       "      <td>346.669549</td>\n",
       "    </tr>\n",
       "    <tr>\n",
       "      <th>1</th>\n",
       "      <td>11920</td>\n",
       "      <td>268.874152</td>\n",
       "      <td>367.840277</td>\n",
       "    </tr>\n",
       "    <tr>\n",
       "      <th>2</th>\n",
       "      <td>8910</td>\n",
       "      <td>446.643127</td>\n",
       "      <td>431.468979</td>\n",
       "    </tr>\n",
       "    <tr>\n",
       "      <th>3</th>\n",
       "      <td>4964</td>\n",
       "      <td>321.141267</td>\n",
       "      <td>445.506463</td>\n",
       "    </tr>\n",
       "    <tr>\n",
       "      <th>4</th>\n",
       "      <td>10100</td>\n",
       "      <td>428.716114</td>\n",
       "      <td>378.271169</td>\n",
       "    </tr>\n",
       "  </tbody>\n",
       "</table>\n",
       "</div>"
      ],
      "text/plain": [
       "   id_cliente  saldo_atual   predicted\n",
       "0        1767   278.172008  346.669549\n",
       "1       11920   268.874152  367.840277\n",
       "2        8910   446.643127  431.468979\n",
       "3        4964   321.141267  445.506463\n",
       "4       10100   428.716114  378.271169"
      ]
     },
     "execution_count": 7,
     "metadata": {},
     "output_type": "execute_result"
    }
   ],
   "source": [
    "# Seleciona as colunas 'id_cliente' e 'saldo_atual' do DataFrame original e armazena em df1\n",
    "df1 = df.loc[:, ['id_cliente', 'saldo_atual']]\n",
    "\n",
    "# Adiciona uma nova coluna 'predicted' ao DataFrame df1 com as previsões feitas pelo modelo\n",
    "df1['predicted'] = y_pred\n",
    "\n",
    "# Exibe as primeiras linhas do DataFrame df1 para uma visualização inicial\n",
    "df1.head()\n"
   ]
  },
  {
   "cell_type": "code",
   "execution_count": 8,
   "metadata": {},
   "outputs": [
    {
     "data": {
      "text/plain": [
       "array([190.82359144])"
      ]
     },
     "execution_count": 8,
     "metadata": {},
     "output_type": "execute_result"
    }
   ],
   "source": [
    "# Obtém o valor do intercepto (termo constante) do modelo de regressão linear\n",
    "lr_model.intercept_\n"
   ]
  },
  {
   "cell_type": "markdown",
   "metadata": {},
   "source": [
    "lr_model.intercept_:\n",
    "\n",
    "Este atributo retorna o valor do intercepto do modelo de regressão linear. O intercepto é o valor da variável dependente (saldo_atual, neste caso) quando todas as variáveis independentes são zero. É um dos parâmetros aprendidos pelo modelo durante o ajuste."
   ]
  },
  {
   "cell_type": "code",
   "execution_count": 9,
   "metadata": {},
   "outputs": [
    {
     "data": {
      "text/plain": [
       "array([[ 3.96706202e-04, -4.00595601e-02,  2.77622532e-06,\n",
       "        -1.04318668e-03,  9.80890872e+00, -1.22353405e-02,\n",
       "        -6.33015538e-03, -3.57808095e-03, -2.15858165e+00,\n",
       "         3.77570060e-04,  6.79176336e-03,  3.48471845e-03]])"
      ]
     },
     "execution_count": 9,
     "metadata": {},
     "output_type": "execute_result"
    }
   ],
   "source": [
    "# Obtém os coeficientes das variáveis independentes do modelo de regressão linear\n",
    "lr_model.coef_\n"
   ]
  },
  {
   "cell_type": "markdown",
   "metadata": {},
   "source": [
    "lr_model.coef_:\n",
    "\n",
    "Este atributo retorna os coeficientes das variáveis independentes no modelo de regressão linear. Cada coeficiente representa a magnitude e a direção do efeito de uma variável independente na variável dependente. Em outras palavras, os coeficientes indicam como a mudança em cada variável independente afeta a variável dependente."
   ]
  },
  {
   "cell_type": "code",
   "execution_count": 10,
   "metadata": {},
   "outputs": [
    {
     "name": "stdout",
     "output_type": "stream",
     "text": [
      "[346.66954862]\n",
      "[367.84027655]\n",
      "[431.46897895]\n",
      "[445.50646329]\n",
      "[378.27116865]\n",
      "[352.4833463]\n"
     ]
    }
   ],
   "source": [
    "# Itera sobre o índice das amostras no conjunto de dados de treinamento\n",
    "for i in range(len(x_train)):\n",
    "\n",
    "    # Calcula a previsão do modelo para a amostra i, usando a fórmula y = a + bx\n",
    "    # np.sum((x_train.loc[i,].values * lr_model.coef_)) calcula o termo bx\n",
    "    # lr_model.intercept_ adiciona o termo constante a\n",
    "    print(np.sum((x_train.loc[i,].values * lr_model.coef_)) + lr_model.intercept_)\n",
    "\n",
    "    # Interrompe o loop após a 6ª iteração\n",
    "    if i == 5:\n",
    "        break\n"
   ]
  },
  {
   "cell_type": "code",
   "execution_count": 11,
   "metadata": {},
   "outputs": [],
   "source": [
    "# Calcula o erro de previsão para cada linha do DataFrame df1\n",
    "# x['saldo_atual'] é o valor real e x['predicted'] é o valor previsto\n",
    "# O erro é a diferença entre o valor real e o valor previsto\n",
    "df1['error'] = df1.apply(lambda x: x['saldo_atual'] - x['predicted'], axis=1)"
   ]
  },
  {
   "cell_type": "code",
   "execution_count": 12,
   "metadata": {},
   "outputs": [
    {
     "data": {
      "text/html": [
       "<div>\n",
       "<style scoped>\n",
       "    .dataframe tbody tr th:only-of-type {\n",
       "        vertical-align: middle;\n",
       "    }\n",
       "\n",
       "    .dataframe tbody tr th {\n",
       "        vertical-align: top;\n",
       "    }\n",
       "\n",
       "    .dataframe thead th {\n",
       "        text-align: right;\n",
       "    }\n",
       "</style>\n",
       "<table border=\"1\" class=\"dataframe\">\n",
       "  <thead>\n",
       "    <tr style=\"text-align: right;\">\n",
       "      <th></th>\n",
       "      <th>id_cliente</th>\n",
       "      <th>saldo_atual</th>\n",
       "      <th>predicted</th>\n",
       "      <th>error</th>\n",
       "    </tr>\n",
       "  </thead>\n",
       "  <tbody>\n",
       "    <tr>\n",
       "      <th>0</th>\n",
       "      <td>1767</td>\n",
       "      <td>278.172008</td>\n",
       "      <td>346.669549</td>\n",
       "      <td>-68.497541</td>\n",
       "    </tr>\n",
       "    <tr>\n",
       "      <th>1</th>\n",
       "      <td>11920</td>\n",
       "      <td>268.874152</td>\n",
       "      <td>367.840277</td>\n",
       "      <td>-98.966124</td>\n",
       "    </tr>\n",
       "    <tr>\n",
       "      <th>2</th>\n",
       "      <td>8910</td>\n",
       "      <td>446.643127</td>\n",
       "      <td>431.468979</td>\n",
       "      <td>15.174148</td>\n",
       "    </tr>\n",
       "    <tr>\n",
       "      <th>3</th>\n",
       "      <td>4964</td>\n",
       "      <td>321.141267</td>\n",
       "      <td>445.506463</td>\n",
       "      <td>-124.365197</td>\n",
       "    </tr>\n",
       "    <tr>\n",
       "      <th>4</th>\n",
       "      <td>10100</td>\n",
       "      <td>428.716114</td>\n",
       "      <td>378.271169</td>\n",
       "      <td>50.444945</td>\n",
       "    </tr>\n",
       "  </tbody>\n",
       "</table>\n",
       "</div>"
      ],
      "text/plain": [
       "   id_cliente  saldo_atual   predicted       error\n",
       "0        1767   278.172008  346.669549  -68.497541\n",
       "1       11920   268.874152  367.840277  -98.966124\n",
       "2        8910   446.643127  431.468979   15.174148\n",
       "3        4964   321.141267  445.506463 -124.365197\n",
       "4       10100   428.716114  378.271169   50.444945"
      ]
     },
     "execution_count": 12,
     "metadata": {},
     "output_type": "execute_result"
    }
   ],
   "source": [
    "df1.head()"
   ]
  },
  {
   "cell_type": "markdown",
   "metadata": {},
   "source": [
    "# Performance"
   ]
  },
  {
   "cell_type": "code",
   "execution_count": 13,
   "metadata": {},
   "outputs": [
    {
     "data": {
      "text/plain": [
       "0.16917364489050013"
      ]
     },
     "execution_count": 13,
     "metadata": {},
     "output_type": "execute_result"
    }
   ],
   "source": [
    "# Calcula o coeficiente de determinação R² para avaliar o desempenho do modelo\n",
    "# R² mede a proporção da variabilidade na variável dependente que é explicada pelo modelo\n",
    "mt.r2_score(y_train, y_pred)"
   ]
  },
  {
   "cell_type": "markdown",
   "metadata": {},
   "source": [
    "mt.r2_score(y_train, y_pred):\n",
    "\n",
    "O método r2_score da sub-biblioteca metrics da sklearn calcula o coeficiente de determinação R².O valor de R² indica a proporção da variabilidade na variável dependente (y_train) que é explicada pelas previsões (y_pred) do modelo. Um valor de R² próximo de 1 sugere que o modelo explica bem a variabilidade dos dados, enquanto um valor próximo de 0 indica que o modelo não explica bem a variabilidade."
   ]
  },
  {
   "cell_type": "code",
   "execution_count": 14,
   "metadata": {},
   "outputs": [
    {
     "name": "stdout",
     "output_type": "stream",
     "text": [
      "A cada previsão, o erro médio é de: U$39370.27\n"
     ]
    }
   ],
   "source": [
    "# Calcula o erro quadrático médio (MSE) das previsões\n",
    "# mean_squared_error é usado para calcular o MSE entre os valores reais (y_train) e as previsões (y_pred)\n",
    "# np.round arredonda o MSE para duas casas decimais\n",
    "mse = np.round(mt.mean_squared_error(y_train, y_pred), 2)\n",
    "\n",
    "# Exibe o erro médio das previsões, formatado como moeda\n",
    "print(f'A cada previsão, o erro médio é de: U${mse}')\n"
   ]
  },
  {
   "cell_type": "markdown",
   "metadata": {},
   "source": [
    "mean_squared_error:\n",
    "\n",
    " calcula o erro quadrático médio (MSE), que é uma medida da média dos quadrados dos erros entre os valores reais (y_train) e as previsões (y_pred). O MSE dá uma ideia de quão longe, em média, as previsões estão dos valores reais. np.round é usado para arredondar o MSE para duas casas decimais para uma apresentação mais limpa."
   ]
  },
  {
   "cell_type": "code",
   "execution_count": 15,
   "metadata": {},
   "outputs": [
    {
     "data": {
      "text/plain": [
       "np.float64(198.41942949217446)"
      ]
     },
     "execution_count": 15,
     "metadata": {},
     "output_type": "execute_result"
    }
   ],
   "source": [
    "# Calcula a raiz do erro quadrático médio (RMSE) a partir do MSE\n",
    "# np.sqrt calcula a raiz quadrada do MSE\n",
    "rmse = np.sqrt(mse)\n",
    "\n",
    "# Exibe o valor da raiz do erro quadrático médio (RMSE)\n",
    "rmse\n"
   ]
  },
  {
   "cell_type": "code",
   "execution_count": null,
   "metadata": {},
   "outputs": [],
   "source": []
  }
 ],
 "metadata": {
  "kernelspec": {
   "display_name": "env",
   "language": "python",
   "name": "python3"
  },
  "language_info": {
   "codemirror_mode": {
    "name": "ipython",
    "version": 3
   },
   "file_extension": ".py",
   "mimetype": "text/x-python",
   "name": "python",
   "nbconvert_exporter": "python",
   "pygments_lexer": "ipython3",
   "version": "3.12.1"
  }
 },
 "nbformat": 4,
 "nbformat_minor": 2
}
